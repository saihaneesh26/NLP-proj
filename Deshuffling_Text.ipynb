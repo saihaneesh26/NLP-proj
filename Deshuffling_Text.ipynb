{
  "nbformat": 4,
  "nbformat_minor": 0,
  "metadata": {
    "colab": {
      "name": "Deshuffling Text.ipynb",
      "provenance": [],
      "collapsed_sections": [],
      "include_colab_link": true
    },
    "kernelspec": {
      "name": "python3",
      "display_name": "Python 3"
    },
    "language_info": {
      "name": "python"
    }
  },
  "cells": [
    {
      "cell_type": "markdown",
      "metadata": {
        "id": "view-in-github",
        "colab_type": "text"
      },
      "source": [
        "<a href=\"https://colab.research.google.com/github/saihaneesh26/NLP-proj/blob/main/Deshuffling_Text.ipynb\" target=\"_parent\"><img src=\"https://colab.research.google.com/assets/colab-badge.svg\" alt=\"Open In Colab\"/></a>"
      ]
    },
    {
      "cell_type": "code",
      "metadata": {
        "id": "i2eQMldim_Gv"
      },
      "source": [
        "import numpy as np\n",
        "import pandas as pd"
      ],
      "execution_count": null,
      "outputs": []
    },
    {
      "cell_type": "code",
      "metadata": {
        "id": "IIuHtmzRnNh2"
      },
      "source": [
        "df = pd.read_csv('/content/train.csv')"
      ],
      "execution_count": null,
      "outputs": []
    },
    {
      "cell_type": "code",
      "metadata": {
        "colab": {
          "base_uri": "https://localhost:8080/",
          "height": 422
        },
        "id": "9_pj3fPMqD6V",
        "outputId": "d2815a04-65f5-453b-9467-64145fef0013"
      },
      "source": [
        "test_df = pd.read_csv('/content/test.csv')\n",
        "test_df"
      ],
      "execution_count": null,
      "outputs": [
        {
          "output_type": "execute_result",
          "data": {
            "text/html": [
              "<div>\n",
              "<style scoped>\n",
              "    .dataframe tbody tr th:only-of-type {\n",
              "        vertical-align: middle;\n",
              "    }\n",
              "\n",
              "    .dataframe tbody tr th {\n",
              "        vertical-align: top;\n",
              "    }\n",
              "\n",
              "    .dataframe thead th {\n",
              "        text-align: right;\n",
              "    }\n",
              "</style>\n",
              "<table border=\"1\" class=\"dataframe\">\n",
              "  <thead>\n",
              "    <tr style=\"text-align: right;\">\n",
              "      <th></th>\n",
              "      <th>id</th>\n",
              "      <th>text</th>\n",
              "      <th>label</th>\n",
              "    </tr>\n",
              "  </thead>\n",
              "  <tbody>\n",
              "    <tr>\n",
              "      <th>0</th>\n",
              "      <td>0</td>\n",
              "      <td>safely objects move. that system images detect...</td>\n",
              "      <td>system Using approach, move. safely skip of th...</td>\n",
              "    </tr>\n",
              "    <tr>\n",
              "      <th>1</th>\n",
              "      <td>1</td>\n",
              "      <td>We detectors popular influence of confidences ...</td>\n",
              "      <td>confidences popular different in detectors We ...</td>\n",
              "    </tr>\n",
              "    <tr>\n",
              "      <th>2</th>\n",
              "      <td>2</td>\n",
              "      <td>compact coding present supervised We a approac...</td>\n",
              "      <td>We a supervised approach, compact present codi...</td>\n",
              "    </tr>\n",
              "    <tr>\n",
              "      <th>3</th>\n",
              "      <td>3</td>\n",
              "      <td>study high-throughput vital of quantitative be...</td>\n",
              "      <td>is for and individuals study of of collective ...</td>\n",
              "    </tr>\n",
              "    <tr>\n",
              "      <th>4</th>\n",
              "      <td>4</td>\n",
              "      <td>on data sets. We evaluate method many challeng...</td>\n",
              "      <td>sets. challenging the data We method on many e...</td>\n",
              "    </tr>\n",
              "    <tr>\n",
              "      <th>...</th>\n",
              "      <td>...</td>\n",
              "      <td>...</td>\n",
              "      <td>...</td>\n",
              "    </tr>\n",
              "    <tr>\n",
              "      <th>9995</th>\n",
              "      <td>9995</td>\n",
              "      <td>particular i.e. problem, of to due However, na...</td>\n",
              "      <td>the i.e. of problem, However, particular to th...</td>\n",
              "    </tr>\n",
              "    <tr>\n",
              "      <th>9996</th>\n",
              "      <td>9996</td>\n",
              "      <td>Simulation methods. proposed outperforming met...</td>\n",
              "      <td>state-of-the-art the that of Simulation demons...</td>\n",
              "    </tr>\n",
              "    <tr>\n",
              "      <th>9997</th>\n",
              "      <td>9997</td>\n",
              "      <td>in This view introduces a scenarios. paper tec...</td>\n",
              "      <td>used label introduces in placement scenarios. ...</td>\n",
              "    </tr>\n",
              "    <tr>\n",
              "      <th>9998</th>\n",
              "      <td>9998</td>\n",
              "      <td>valve. water from water are and pipeline sourc...</td>\n",
              "      <td>source noise interference of The are valve. pi...</td>\n",
              "    </tr>\n",
              "    <tr>\n",
              "      <th>9999</th>\n",
              "      <td>9999</td>\n",
              "      <td>localization leak analyzed. The leak the compu...</td>\n",
              "      <td>The leak analyzed. leak distance against actua...</td>\n",
              "    </tr>\n",
              "  </tbody>\n",
              "</table>\n",
              "<p>10000 rows × 3 columns</p>\n",
              "</div>"
            ],
            "text/plain": [
              "        id  ...                                              label\n",
              "0        0  ...  system Using approach, move. safely skip of th...\n",
              "1        1  ...  confidences popular different in detectors We ...\n",
              "2        2  ...  We a supervised approach, compact present codi...\n",
              "3        3  ...  is for and individuals study of of collective ...\n",
              "4        4  ...  sets. challenging the data We method on many e...\n",
              "...    ...  ...                                                ...\n",
              "9995  9995  ...  the i.e. of problem, However, particular to th...\n",
              "9996  9996  ...  state-of-the-art the that of Simulation demons...\n",
              "9997  9997  ...  used label introduces in placement scenarios. ...\n",
              "9998  9998  ...  source noise interference of The are valve. pi...\n",
              "9999  9999  ...  The leak analyzed. leak distance against actua...\n",
              "\n",
              "[10000 rows x 3 columns]"
            ]
          },
          "metadata": {},
          "execution_count": 3
        }
      ]
    },
    {
      "cell_type": "code",
      "metadata": {
        "colab": {
          "base_uri": "https://localhost:8080/"
        },
        "id": "GFjgphS1q6pd",
        "outputId": "e46d6672-2c8f-438c-97f5-a335deae0baf"
      },
      "source": [
        "print(test_df.iloc[1]['text'])\n",
        "print(test_df.iloc[1]['label'])"
      ],
      "execution_count": null,
      "outputs": [
        {
          "output_type": "stream",
          "name": "stdout",
          "text": [
            "We detectors popular influence of confidences studied the separately. in had different three\n",
            "confidences popular different in detectors We separately. influence the of had three studied\n"
          ]
        }
      ]
    },
    {
      "cell_type": "code",
      "metadata": {
        "id": "GpOtfftFsLjF"
      },
      "source": [
        "##from here\n",
        "\n",
        "from nltk.util import bigrams\n",
        "bi= []\n",
        "for i in df['label']:\n",
        "  l= list(i.split())\n",
        "  l.insert(0,\"<start>\")\n",
        "  l.append(\"</start>\")\n",
        "  for j in list(bigrams(l)):\n",
        "    bi.append(j)"
      ],
      "execution_count": null,
      "outputs": []
    },
    {
      "cell_type": "code",
      "metadata": {
        "colab": {
          "base_uri": "https://localhost:8080/"
        },
        "id": "4F_Ln1HPuADt",
        "outputId": "a4806170-3a99-4192-8246-5b385242f2fc"
      },
      "source": [
        "print(bi[:2])\n",
        "print(type(bi[0]))"
      ],
      "execution_count": null,
      "outputs": [
        {
          "output_type": "stream",
          "name": "stdout",
          "text": [
            "[('<start>', 'Furthermore,'), ('Furthermore,', 'the')]\n",
            "<class 'tuple'>\n"
          ]
        }
      ]
    },
    {
      "cell_type": "code",
      "metadata": {
        "colab": {
          "base_uri": "https://localhost:8080/"
        },
        "id": "O4O8or8P5LXD",
        "outputId": "e7945559-0f53-45d1-c207-0afc355a2bba"
      },
      "source": [
        "print(len(bi))"
      ],
      "execution_count": null,
      "outputs": [
        {
          "output_type": "stream",
          "name": "stdout",
          "text": [
            "532422\n"
          ]
        }
      ]
    },
    {
      "cell_type": "code",
      "metadata": {
        "id": "YmKfnZ6pv63U"
      },
      "source": [
        "d = {}\n",
        "for i in bi:\n",
        "  if(i[0] in d):\n",
        "    d[i[0]].append(i[1])\n",
        "  else:\n",
        "    d[i[0]] = [i[1]]\n"
      ],
      "execution_count": null,
      "outputs": []
    },
    {
      "cell_type": "code",
      "metadata": {
        "colab": {
          "base_uri": "https://localhost:8080/"
        },
        "id": "1Eyitz01wcxs",
        "outputId": "4b96fc1b-0dc1-4dd4-a348-6cbbce5f09a6"
      },
      "source": [
        "print(len(d))"
      ],
      "execution_count": null,
      "outputs": [
        {
          "output_type": "stream",
          "name": "stdout",
          "text": [
            "39041\n"
          ]
        }
      ]
    },
    {
      "cell_type": "code",
      "metadata": {
        "id": "NXEFYhTxA1n9"
      },
      "source": [
        "def intersection(lst1, lst2):\n",
        "    lst3 = [value for value in lst1 if value in lst2]\n",
        "    return lst3\n",
        "def func(inp):\n",
        "  input_list = inp.split()\n",
        "  next = '<start>'\n",
        "  s= ''\n",
        "  #start\n",
        "  cap = []\n",
        "  for i in input_list:\n",
        "    # print(i[0])\n",
        "    if(i[0].isupper()):\n",
        "      # print(i)\n",
        "      cap.append(i)\n",
        "  # print(cap)\n",
        "  capd={}\n",
        "  for i in cap:\n",
        "    try:\n",
        "      capd[d[\"<start>\"].count(i)] = i\n",
        "    except:\n",
        "      capd[0]=i\n",
        "    # print(capd)\n",
        "  try:\n",
        "    s+= capd[max(capd.keys())]+' '\n",
        "    input_list.remove(i) \n",
        "    next = capd[max(capd.keys())]\n",
        "  #end\n",
        "  except:\n",
        "    pass\n",
        "  end=''\n",
        "  for i in input_list:\n",
        "    # print(i[-1]=='.')\n",
        "    if(i[-1]=='.'):\n",
        "      end = i\n",
        "  if(end!=''):\n",
        "    input_list.remove(end)\n",
        "  #middle\n",
        "  for _ in range(len(input_list)):\n",
        "    l = {}\n",
        "    for i in input_list:\n",
        "      # print(next,i,d[next].count(i))\n",
        "      try:\n",
        "        l[d[next].count(i)] = i\n",
        "      except:\n",
        "        l[0]=i\n",
        "    # print()\n",
        "    all_keys = l.keys()\n",
        "    s+= l[max(all_keys)]+\" \"\n",
        "    input_list.remove(l[max(all_keys)])\n",
        "    next = l[max(all_keys)]\n",
        "  s+=end\n",
        "  # print(\"ANSWER IS :\",s)\n",
        "  return s"
      ],
      "execution_count": null,
      "outputs": []
    },
    {
      "cell_type": "code",
      "metadata": {
        "colab": {
          "base_uri": "https://localhost:8080/"
        },
        "id": "VJQpI3h8BUMi",
        "outputId": "b1d8aeda-0576-40a7-83ce-dba2ce59f68e"
      },
      "source": [
        "print(func(test_df['text'].iloc[1]))\n",
        "print()"
      ],
      "execution_count": null,
      "outputs": [
        {
          "output_type": "stream",
          "name": "stdout",
          "text": [
            "We studied in the different popular three of influence had confidences detectors separately.\n",
            "\n"
          ]
        }
      ]
    },
    {
      "cell_type": "code",
      "metadata": {
        "colab": {
          "base_uri": "https://localhost:8080/"
        },
        "id": "B__NcW1bBk6F",
        "outputId": "67acf48f-3b0b-40f3-92a2-3779049d4896"
      },
      "source": [
        "print(test_df['text'].iloc[1])"
      ],
      "execution_count": null,
      "outputs": [
        {
          "output_type": "stream",
          "name": "stdout",
          "text": [
            "We detectors popular influence of confidences studied the separately. in had different three\n"
          ]
        }
      ]
    },
    {
      "cell_type": "code",
      "metadata": {
        "colab": {
          "base_uri": "https://localhost:8080/"
        },
        "id": "3GTI_25KBk8v",
        "outputId": "0a0ed6cd-22db-4f4b-810d-38b198c8e37b"
      },
      "source": [
        "print(test_df['label'].iloc[1])"
      ],
      "execution_count": null,
      "outputs": [
        {
          "output_type": "stream",
          "name": "stdout",
          "text": [
            "confidences popular different in detectors We separately. influence the of had three studied\n"
          ]
        }
      ]
    },
    {
      "cell_type": "code",
      "metadata": {
        "colab": {
          "base_uri": "https://localhost:8080/",
          "height": 422
        },
        "id": "X4uDeJcRBk_S",
        "outputId": "18778656-aab0-4872-e71f-6d9ca0d0be61"
      },
      "source": [
        "val_df = pd.read_csv('/content/val.csv')\n",
        "val_df"
      ],
      "execution_count": null,
      "outputs": [
        {
          "output_type": "execute_result",
          "data": {
            "text/html": [
              "<div>\n",
              "<style scoped>\n",
              "    .dataframe tbody tr th:only-of-type {\n",
              "        vertical-align: middle;\n",
              "    }\n",
              "\n",
              "    .dataframe tbody tr th {\n",
              "        vertical-align: top;\n",
              "    }\n",
              "\n",
              "    .dataframe thead th {\n",
              "        text-align: right;\n",
              "    }\n",
              "</style>\n",
              "<table border=\"1\" class=\"dataframe\">\n",
              "  <thead>\n",
              "    <tr style=\"text-align: right;\">\n",
              "      <th></th>\n",
              "      <th>text</th>\n",
              "      <th>label</th>\n",
              "    </tr>\n",
              "  </thead>\n",
              "  <tbody>\n",
              "    <tr>\n",
              "      <th>0</th>\n",
              "      <td>a image super of resolution great low-level vi...</td>\n",
              "      <td>Single image super resolution is of great impo...</td>\n",
              "    </tr>\n",
              "    <tr>\n",
              "      <th>1</th>\n",
              "      <td>approaches achieved networks Recent neural im-...</td>\n",
              "      <td>Recent approaches with deep convolutional neur...</td>\n",
              "    </tr>\n",
              "    <tr>\n",
              "      <th>2</th>\n",
              "      <td>hierarchical multi network the different kerne...</td>\n",
              "      <td>Specifically, the network with multi kernel le...</td>\n",
              "    </tr>\n",
              "    <tr>\n",
              "      <th>3</th>\n",
              "      <td>identified can when be terminated Tracking dir...</td>\n",
              "      <td>Tracking is terminated when no direction can b...</td>\n",
              "    </tr>\n",
              "    <tr>\n",
              "      <th>4</th>\n",
              "      <td>This placed manually and centerlines correspon...</td>\n",
              "      <td>This showed strong correspondence between extr...</td>\n",
              "    </tr>\n",
              "    <tr>\n",
              "      <th>...</th>\n",
              "      <td>...</td>\n",
              "      <td>...</td>\n",
              "    </tr>\n",
              "    <tr>\n",
              "      <th>3996</th>\n",
              "      <td>the display valve. anatomy fiber of and mitral...</td>\n",
              "      <td>These display the gross anatomy and informatio...</td>\n",
              "    </tr>\n",
              "    <tr>\n",
              "      <th>3997</th>\n",
              "      <td>fiber this incorporate We the model. topology ...</td>\n",
              "      <td>We incorporate information from the dissection...</td>\n",
              "    </tr>\n",
              "    <tr>\n",
              "      <th>3998</th>\n",
              "      <td>supporting load. achieves We assume valve stat...</td>\n",
              "      <td>We assume the valve achieves mechanical equili...</td>\n",
              "    </tr>\n",
              "    <tr>\n",
              "      <th>3999</th>\n",
              "      <td>the model. The to pressurized the of solution ...</td>\n",
              "      <td>The solution to the resulting differential equ...</td>\n",
              "    </tr>\n",
              "    <tr>\n",
              "      <th>4000</th>\n",
              "      <td>safely objects move. that system images detect...</td>\n",
              "      <td>Using this approach, system can safely skip de...</td>\n",
              "    </tr>\n",
              "  </tbody>\n",
              "</table>\n",
              "<p>4001 rows × 2 columns</p>\n",
              "</div>"
            ],
            "text/plain": [
              "                                                   text                                              label\n",
              "0     a image super of resolution great low-level vi...  Single image super resolution is of great impo...\n",
              "1     approaches achieved networks Recent neural im-...  Recent approaches with deep convolutional neur...\n",
              "2     hierarchical multi network the different kerne...  Specifically, the network with multi kernel le...\n",
              "3     identified can when be terminated Tracking dir...  Tracking is terminated when no direction can b...\n",
              "4     This placed manually and centerlines correspon...  This showed strong correspondence between extr...\n",
              "...                                                 ...                                                ...\n",
              "3996  the display valve. anatomy fiber of and mitral...  These display the gross anatomy and informatio...\n",
              "3997  fiber this incorporate We the model. topology ...  We incorporate information from the dissection...\n",
              "3998  supporting load. achieves We assume valve stat...  We assume the valve achieves mechanical equili...\n",
              "3999  the model. The to pressurized the of solution ...  The solution to the resulting differential equ...\n",
              "4000  safely objects move. that system images detect...  Using this approach, system can safely skip de...\n",
              "\n",
              "[4001 rows x 2 columns]"
            ]
          },
          "metadata": {},
          "execution_count": 15
        }
      ]
    },
    {
      "cell_type": "code",
      "metadata": {
        "colab": {
          "base_uri": "https://localhost:8080/"
        },
        "id": "fJsHbaafBlBn",
        "outputId": "cda34c20-0f35-48b0-881b-fae4229ac52f"
      },
      "source": [
        "print(val_df['text'].iloc[4])\n",
        "print(val_df['label'].iloc[4])\n",
        "print(\"Ans: \",func(val_df['text'].iloc[4]))"
      ],
      "execution_count": 40,
      "outputs": [
        {
          "output_type": "stream",
          "name": "stdout",
          "text": [
            "This placed manually and centerlines correspondence extracted between showed strong markers.\n",
            "This showed strong correspondence between extracted centerlines and manually placed markers.\n",
            "Ans:  This showed strong and between extracted correspondence centerlines manually placed markers.\n"
          ]
        }
      ]
    },
    {
      "cell_type": "code",
      "metadata": {
        "id": "savtildqIsl8"
      },
      "source": [
        "new_df = []\n",
        "for i in range(10000):\n",
        "  new_df.append(func(test_df['text'].iloc[i]))\n"
      ],
      "execution_count": null,
      "outputs": []
    },
    {
      "cell_type": "code",
      "metadata": {
        "colab": {
          "base_uri": "https://localhost:8080/"
        },
        "id": "hZ18onY0KzD8",
        "outputId": "d940cb16-1c71-418c-a859-93a725a95dd7"
      },
      "source": [
        "len(new_df)"
      ],
      "execution_count": null,
      "outputs": [
        {
          "output_type": "execute_result",
          "data": {
            "text/plain": [
              "10000"
            ]
          },
          "metadata": {},
          "execution_count": 21
        }
      ]
    },
    {
      "cell_type": "code",
      "metadata": {
        "colab": {
          "base_uri": "https://localhost:8080/",
          "height": 34
        },
        "id": "1ixslWU5L1Km",
        "outputId": "965a0ca2-6ceb-4093-cb62-8c5211728843"
      },
      "source": [
        "new_df[0]"
      ],
      "execution_count": null,
      "outputs": [
        {
          "output_type": "execute_result",
          "data": {
            "application/vnd.google.colaboratory.intrinsic+json": {
              "type": "string"
            },
            "text/plain": [
              "'Using this approach, barely frames can of images that objects skip detection system safely move.'"
            ]
          },
          "metadata": {},
          "execution_count": 24
        }
      ]
    },
    {
      "cell_type": "code",
      "metadata": {
        "id": "8s1HI2qRK3ds"
      },
      "source": [
        "test_df['label']=new_df"
      ],
      "execution_count": null,
      "outputs": []
    },
    {
      "cell_type": "code",
      "metadata": {
        "colab": {
          "base_uri": "https://localhost:8080/",
          "height": 422
        },
        "id": "UoJ5x5MnLx6c",
        "outputId": "61bee309-5f9f-4cfc-ae73-4c024fa597e5"
      },
      "source": [
        "test_df"
      ],
      "execution_count": null,
      "outputs": [
        {
          "output_type": "execute_result",
          "data": {
            "text/html": [
              "<div>\n",
              "<style scoped>\n",
              "    .dataframe tbody tr th:only-of-type {\n",
              "        vertical-align: middle;\n",
              "    }\n",
              "\n",
              "    .dataframe tbody tr th {\n",
              "        vertical-align: top;\n",
              "    }\n",
              "\n",
              "    .dataframe thead th {\n",
              "        text-align: right;\n",
              "    }\n",
              "</style>\n",
              "<table border=\"1\" class=\"dataframe\">\n",
              "  <thead>\n",
              "    <tr style=\"text-align: right;\">\n",
              "      <th></th>\n",
              "      <th>id</th>\n",
              "      <th>text</th>\n",
              "      <th>label</th>\n",
              "    </tr>\n",
              "  </thead>\n",
              "  <tbody>\n",
              "    <tr>\n",
              "      <th>0</th>\n",
              "      <td>0</td>\n",
              "      <td>safely objects move. that system images detect...</td>\n",
              "      <td>Using this approach, barely frames can of imag...</td>\n",
              "    </tr>\n",
              "    <tr>\n",
              "      <th>1</th>\n",
              "      <td>1</td>\n",
              "      <td>We detectors popular influence of confidences ...</td>\n",
              "      <td>We studied in the different popular three of i...</td>\n",
              "    </tr>\n",
              "    <tr>\n",
              "      <th>2</th>\n",
              "      <td>2</td>\n",
              "      <td>compact coding present supervised We a approac...</td>\n",
              "      <td>We present a compact coding approach, supervis...</td>\n",
              "    </tr>\n",
              "    <tr>\n",
              "      <th>3</th>\n",
              "      <td>3</td>\n",
              "      <td>study high-throughput vital of quantitative be...</td>\n",
              "      <td>Trajectory of their collective for quantitativ...</td>\n",
              "    </tr>\n",
              "    <tr>\n",
              "      <th>4</th>\n",
              "      <td>4</td>\n",
              "      <td>on data sets. We evaluate method many challeng...</td>\n",
              "      <td>We evaluate the proposed method on challenging...</td>\n",
              "    </tr>\n",
              "    <tr>\n",
              "      <th>...</th>\n",
              "      <td>...</td>\n",
              "      <td>...</td>\n",
              "      <td>...</td>\n",
              "    </tr>\n",
              "    <tr>\n",
              "      <th>9995</th>\n",
              "      <td>9995</td>\n",
              "      <td>particular i.e. problem, of to due However, na...</td>\n",
              "      <td>However, the nature of the problem, due to par...</td>\n",
              "    </tr>\n",
              "    <tr>\n",
              "      <th>9996</th>\n",
              "      <td>9996</td>\n",
              "      <td>Simulation methods. proposed outperforming met...</td>\n",
              "      <td>Simulation results demonstrate the proposed me...</td>\n",
              "    </tr>\n",
              "    <tr>\n",
              "      <th>9997</th>\n",
              "      <td>9997</td>\n",
              "      <td>in This view introduces a scenarios. paper tec...</td>\n",
              "      <td>This paper introduces a technique for in view ...</td>\n",
              "    </tr>\n",
              "    <tr>\n",
              "      <th>9998</th>\n",
              "      <td>9998</td>\n",
              "      <td>valve. water from water are and pipeline sourc...</td>\n",
              "      <td>The source of the noise and are from water mot...</td>\n",
              "    </tr>\n",
              "    <tr>\n",
              "      <th>9999</th>\n",
              "      <td>9999</td>\n",
              "      <td>localization leak analyzed. The leak the compu...</td>\n",
              "      <td>The accuracy was the actual against the distan...</td>\n",
              "    </tr>\n",
              "  </tbody>\n",
              "</table>\n",
              "<p>10000 rows × 3 columns</p>\n",
              "</div>"
            ],
            "text/plain": [
              "        id  ...                                              label\n",
              "0        0  ...  Using this approach, barely frames can of imag...\n",
              "1        1  ...  We studied in the different popular three of i...\n",
              "2        2  ...  We present a compact coding approach, supervis...\n",
              "3        3  ...  Trajectory of their collective for quantitativ...\n",
              "4        4  ...  We evaluate the proposed method on challenging...\n",
              "...    ...  ...                                                ...\n",
              "9995  9995  ...  However, the nature of the problem, due to par...\n",
              "9996  9996  ...  Simulation results demonstrate the proposed me...\n",
              "9997  9997  ...  This paper introduces a technique for in view ...\n",
              "9998  9998  ...  The source of the noise and are from water mot...\n",
              "9999  9999  ...  The accuracy was the actual against the distan...\n",
              "\n",
              "[10000 rows x 3 columns]"
            ]
          },
          "metadata": {},
          "execution_count": 23
        }
      ]
    },
    {
      "cell_type": "code",
      "metadata": {
        "colab": {
          "base_uri": "https://localhost:8080/",
          "height": 34
        },
        "id": "hlNyPH_JLy_k",
        "outputId": "d5fb5d00-fbf6-4554-9374-e8ef6f590db2"
      },
      "source": [
        "test_df['text'].iloc[0]"
      ],
      "execution_count": null,
      "outputs": [
        {
          "output_type": "execute_result",
          "data": {
            "application/vnd.google.colaboratory.intrinsic+json": {
              "type": "string"
            },
            "text/plain": [
              "'safely objects move. that system images detection skip can of frames Using approach, this barely'"
            ]
          },
          "metadata": {},
          "execution_count": 28
        }
      ]
    },
    {
      "cell_type": "code",
      "metadata": {
        "colab": {
          "base_uri": "https://localhost:8080/",
          "height": 34
        },
        "id": "bffqOPvJL6A0",
        "outputId": "3dbb1bc5-0fd2-4b90-bbea-51929ad5b115"
      },
      "source": [
        "new_df[0]"
      ],
      "execution_count": null,
      "outputs": [
        {
          "output_type": "execute_result",
          "data": {
            "application/vnd.google.colaboratory.intrinsic+json": {
              "type": "string"
            },
            "text/plain": [
              "'Using this approach, barely frames can of images that objects skip detection system safely move.'"
            ]
          },
          "metadata": {},
          "execution_count": 29
        }
      ]
    },
    {
      "cell_type": "code",
      "metadata": {
        "id": "16vk_XeNMFIT"
      },
      "source": [
        "test_df.to_csv('submission.csv')"
      ],
      "execution_count": null,
      "outputs": []
    },
    {
      "cell_type": "code",
      "metadata": {
        "id": "NrnGKpW9MYC8"
      },
      "source": [
        "new_dff = test_df[[\"id\",\"text\"]]"
      ],
      "execution_count": null,
      "outputs": []
    },
    {
      "cell_type": "code",
      "metadata": {
        "colab": {
          "base_uri": "https://localhost:8080/",
          "height": 422
        },
        "id": "g5JsoYr7NaMT",
        "outputId": "b6607fc1-899e-4fca-e5d5-417387a1e55f"
      },
      "source": [
        "new_dff"
      ],
      "execution_count": null,
      "outputs": [
        {
          "output_type": "execute_result",
          "data": {
            "text/html": [
              "<div>\n",
              "<style scoped>\n",
              "    .dataframe tbody tr th:only-of-type {\n",
              "        vertical-align: middle;\n",
              "    }\n",
              "\n",
              "    .dataframe tbody tr th {\n",
              "        vertical-align: top;\n",
              "    }\n",
              "\n",
              "    .dataframe thead th {\n",
              "        text-align: right;\n",
              "    }\n",
              "</style>\n",
              "<table border=\"1\" class=\"dataframe\">\n",
              "  <thead>\n",
              "    <tr style=\"text-align: right;\">\n",
              "      <th></th>\n",
              "      <th>id</th>\n",
              "      <th>text</th>\n",
              "    </tr>\n",
              "  </thead>\n",
              "  <tbody>\n",
              "    <tr>\n",
              "      <th>0</th>\n",
              "      <td>0</td>\n",
              "      <td>safely objects move. that system images detect...</td>\n",
              "    </tr>\n",
              "    <tr>\n",
              "      <th>1</th>\n",
              "      <td>1</td>\n",
              "      <td>We detectors popular influence of confidences ...</td>\n",
              "    </tr>\n",
              "    <tr>\n",
              "      <th>2</th>\n",
              "      <td>2</td>\n",
              "      <td>compact coding present supervised We a approac...</td>\n",
              "    </tr>\n",
              "    <tr>\n",
              "      <th>3</th>\n",
              "      <td>3</td>\n",
              "      <td>study high-throughput vital of quantitative be...</td>\n",
              "    </tr>\n",
              "    <tr>\n",
              "      <th>4</th>\n",
              "      <td>4</td>\n",
              "      <td>on data sets. We evaluate method many challeng...</td>\n",
              "    </tr>\n",
              "    <tr>\n",
              "      <th>...</th>\n",
              "      <td>...</td>\n",
              "      <td>...</td>\n",
              "    </tr>\n",
              "    <tr>\n",
              "      <th>9995</th>\n",
              "      <td>9995</td>\n",
              "      <td>particular i.e. problem, of to due However, na...</td>\n",
              "    </tr>\n",
              "    <tr>\n",
              "      <th>9996</th>\n",
              "      <td>9996</td>\n",
              "      <td>Simulation methods. proposed outperforming met...</td>\n",
              "    </tr>\n",
              "    <tr>\n",
              "      <th>9997</th>\n",
              "      <td>9997</td>\n",
              "      <td>in This view introduces a scenarios. paper tec...</td>\n",
              "    </tr>\n",
              "    <tr>\n",
              "      <th>9998</th>\n",
              "      <td>9998</td>\n",
              "      <td>valve. water from water are and pipeline sourc...</td>\n",
              "    </tr>\n",
              "    <tr>\n",
              "      <th>9999</th>\n",
              "      <td>9999</td>\n",
              "      <td>localization leak analyzed. The leak the compu...</td>\n",
              "    </tr>\n",
              "  </tbody>\n",
              "</table>\n",
              "<p>10000 rows × 2 columns</p>\n",
              "</div>"
            ],
            "text/plain": [
              "        id                                               text\n",
              "0        0  safely objects move. that system images detect...\n",
              "1        1  We detectors popular influence of confidences ...\n",
              "2        2  compact coding present supervised We a approac...\n",
              "3        3  study high-throughput vital of quantitative be...\n",
              "4        4  on data sets. We evaluate method many challeng...\n",
              "...    ...                                                ...\n",
              "9995  9995  particular i.e. problem, of to due However, na...\n",
              "9996  9996  Simulation methods. proposed outperforming met...\n",
              "9997  9997  in This view introduces a scenarios. paper tec...\n",
              "9998  9998  valve. water from water are and pipeline sourc...\n",
              "9999  9999  localization leak analyzed. The leak the compu...\n",
              "\n",
              "[10000 rows x 2 columns]"
            ]
          },
          "metadata": {},
          "execution_count": 37
        }
      ]
    },
    {
      "cell_type": "code",
      "metadata": {
        "id": "vKDoWwirNpfC"
      },
      "source": [
        "new_dff.to_csv(\"edited_test.csv\")"
      ],
      "execution_count": 39,
      "outputs": []
    },
    {
      "cell_type": "code",
      "metadata": {
        "id": "cei-mqIsNvw6"
      },
      "source": [
        ""
      ],
      "execution_count": null,
      "outputs": []
    }
  ]
}