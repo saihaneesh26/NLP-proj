{
  "nbformat": 4,
  "nbformat_minor": 0,
  "metadata": {
    "colab": {
      "name": "NLP project.ipynb",
      "provenance": [],
      "collapsed_sections": [],
      "authorship_tag": "ABX9TyMJEe0yVZieuqUsDTJpIZ7m",
      "include_colab_link": true
    },
    "kernelspec": {
      "name": "python3",
      "display_name": "Python 3"
    },
    "language_info": {
      "name": "python"
    },
    "accelerator": "GPU"
  },
  "cells": [
    {
      "cell_type": "markdown",
      "metadata": {
        "id": "view-in-github",
        "colab_type": "text"
      },
      "source": [
        "<a href=\"https://colab.research.google.com/github/saihaneesh26/NLP-proj/blob/main/NLP_project.ipynb\" target=\"_parent\"><img src=\"https://colab.research.google.com/assets/colab-badge.svg\" alt=\"Open In Colab\"/></a>"
      ]
    },
    {
      "cell_type": "code",
      "metadata": {
        "id": "O8_d6La4Ybj3"
      },
      "source": [
        "import tensorflow as tf\n",
        "import numpy as np\n",
        "import os"
      ],
      "execution_count": 1,
      "outputs": []
    },
    {
      "cell_type": "code",
      "metadata": {
        "id": "GV0ZS1YSZLUV",
        "colab": {
          "base_uri": "https://localhost:8080/"
        },
        "outputId": "33085bb1-ee27-4612-df28-bfd4a5232a74"
      },
      "source": [
        "path_to_file = tf.keras.utils.get_file('shakespeare.txt', 'https://storage.googleapis.com/download.tensorflow.org/data/shakespeare.txt')\n"
      ],
      "execution_count": 2,
      "outputs": [
        {
          "output_type": "stream",
          "name": "stdout",
          "text": [
            "Downloading data from https://storage.googleapis.com/download.tensorflow.org/data/shakespeare.txt\n",
            "1122304/1115394 [==============================] - 0s 0us/step\n",
            "1130496/1115394 [==============================] - 0s 0us/step\n"
          ]
        }
      ]
    },
    {
      "cell_type": "code",
      "metadata": {
        "id": "BUhcaVpTZMZ0"
      },
      "source": [
        "train_text = open(path_to_file,'rb').read()\n",
        "train_text = train_text.decode(encoding=\"utf-8\")"
      ],
      "execution_count": 3,
      "outputs": []
    },
    {
      "cell_type": "code",
      "metadata": {
        "colab": {
          "base_uri": "https://localhost:8080/"
        },
        "id": "QmTXsWhlZhL3",
        "outputId": "857e3c3a-87f6-4bcd-e87b-a65fd6b06e9c"
      },
      "source": [
        "len(train_text)"
      ],
      "execution_count": 4,
      "outputs": [
        {
          "output_type": "execute_result",
          "data": {
            "text/plain": [
              "1115394"
            ]
          },
          "metadata": {},
          "execution_count": 4
        }
      ]
    },
    {
      "cell_type": "code",
      "metadata": {
        "colab": {
          "base_uri": "https://localhost:8080/"
        },
        "id": "Tb9ZhCBdZjgc",
        "outputId": "a741da98-a796-4aa4-dbf0-aa36bb472504"
      },
      "source": [
        "#vectorize the text\n",
        "vocab = sorted(set(train_text))\n",
        "print(\"Unique words :\",len(vocab))"
      ],
      "execution_count": 5,
      "outputs": [
        {
          "output_type": "stream",
          "name": "stdout",
          "text": [
            "Unique words : 65\n"
          ]
        }
      ]
    },
    {
      "cell_type": "code",
      "metadata": {
        "colab": {
          "base_uri": "https://localhost:8080/"
        },
        "id": "QOgryuUKZv90",
        "outputId": "4e4149a8-5bff-4186-b2f9-19ef52f8ae6a"
      },
      "source": [
        "#map the words to unique ids or tokenization\n",
        "char2idx  = {u:i for i,u in enumerate(vocab)}#tokenids\n",
        "idx2char  = np.array(vocab)\n",
        "text_as_input = np.array([char2idx[c] for c in train_text])\n",
        "print(text_as_input[:2])"
      ],
      "execution_count": 6,
      "outputs": [
        {
          "output_type": "stream",
          "name": "stdout",
          "text": [
            "[18 47]\n"
          ]
        }
      ]
    },
    {
      "cell_type": "code",
      "metadata": {
        "id": "MwSx0tZnaMhs"
      },
      "source": [
        "#create dataset\n",
        "char_data = tf.data.Dataset.from_tensor_slices(text_as_input)\n",
        "seq_len = 100 #max input len-- len of input must be same  for training\n",
        "seq = char_data.batch(seq_len+1,drop_remainder=True)"
      ],
      "execution_count": 7,
      "outputs": []
    },
    {
      "cell_type": "code",
      "metadata": {
        "id": "Ymk324VlavDX"
      },
      "source": [
        "def split_input_target(chunk):\n",
        "  input_text = chunk[:-1]\n",
        "  target = chunk[1:]\n",
        "  return input_text,target\n",
        "\n",
        "dataset = seq.map(split_input_target)\n"
      ],
      "execution_count": 8,
      "outputs": []
    },
    {
      "cell_type": "code",
      "metadata": {
        "colab": {
          "base_uri": "https://localhost:8080/"
        },
        "id": "Cbq_TVhKa-ht",
        "outputId": "7ee9f61e-acb1-41c0-b2d6-a60488af4838"
      },
      "source": [
        "Buffersize = 10000\n",
        "BATCHSIZE = 64\n",
        "dataset = dataset.shuffle(Buffersize).batch(BATCHSIZE,drop_remainder=True)\n",
        "print(dataset)"
      ],
      "execution_count": 9,
      "outputs": [
        {
          "output_type": "stream",
          "name": "stdout",
          "text": [
            "<BatchDataset shapes: ((64, 100), (64, 100)), types: (tf.int64, tf.int64)>\n"
          ]
        }
      ]
    },
    {
      "cell_type": "code",
      "metadata": {
        "id": "PFhn9Go6bTlz"
      },
      "source": [
        "#model\n",
        "vocab_len = len(vocab)\n",
        "embedding_dims = 256\n",
        "RNN_units = 1024"
      ],
      "execution_count": 10,
      "outputs": []
    },
    {
      "cell_type": "code",
      "metadata": {
        "id": "W5uYlt2LbgJW"
      },
      "source": [
        "# An Embedding Layer: This layer serves as the input layer, accepting input values (in number format) and convert them into vectors.\n",
        "# A GRU layer: An RNN layer filled with 1024 Gradient Descent Units\n",
        "# A Dense layer: To output the result, with vocab_size outputs.\n",
        "\n",
        "def build_model(vocab_len,embedding_dims,RNN_units,batch_size):\n",
        "  model = tf.keras.Sequential([\n",
        "      tf.keras.layers.Embedding(vocab_len, embedding_dims,\n",
        "                              batch_input_shape=[batch_size, None]),\n",
        "      tf.keras.layers.GRU(RNN_units,return_sequences=True,stateful=True,recurrent_initializer='glorot_uniform'),\n",
        "      tf.keras.layers.Dense(vocab_len)\n",
        "  ])\n",
        "  return model"
      ],
      "execution_count": 11,
      "outputs": []
    },
    {
      "cell_type": "code",
      "metadata": {
        "colab": {
          "base_uri": "https://localhost:8080/"
        },
        "id": "ebp-zSOecK9e",
        "outputId": "0b89c5ea-3909-41f9-a40d-094baeab817c"
      },
      "source": [
        "\n",
        "model = build_model(vocab_len,embedding_dims,RNN_units,BATCHSIZE)\n",
        "model.summary()"
      ],
      "execution_count": 12,
      "outputs": [
        {
          "output_type": "stream",
          "name": "stdout",
          "text": [
            "Model: \"sequential\"\n",
            "_________________________________________________________________\n",
            " Layer (type)                Output Shape              Param #   \n",
            "=================================================================\n",
            " embedding (Embedding)       (64, None, 256)           16640     \n",
            "                                                                 \n",
            " gru (GRU)                   (64, None, 1024)          3938304   \n",
            "                                                                 \n",
            " dense (Dense)               (64, None, 65)            66625     \n",
            "                                                                 \n",
            "=================================================================\n",
            "Total params: 4,021,569\n",
            "Trainable params: 4,021,569\n",
            "Non-trainable params: 0\n",
            "_________________________________________________________________\n"
          ]
        }
      ]
    },
    {
      "cell_type": "code",
      "metadata": {
        "id": "Aahj2eFHqgsQ"
      },
      "source": [
        "#compile\n",
        "def loss(labels, logits):\n",
        "  return tf.keras.losses.sparse_categorical_crossentropy(labels, logits, from_logits=True)\n",
        "\n",
        "model.compile(optimizer='adam',loss=loss,metrics=[['accuracy']])\n"
      ],
      "execution_count": 13,
      "outputs": []
    },
    {
      "cell_type": "code",
      "metadata": {
        "id": "6GoBIZtidGwE"
      },
      "source": [
        "checkpoint_callback = tf.keras.callbacks.ModelCheckpoint(\n",
        "    filepath = os.path.join('./training_checkpoints',\"ckpt_{epoch}\"),\n",
        "    save_weights_only = True\n",
        ")"
      ],
      "execution_count": 14,
      "outputs": []
    },
    {
      "cell_type": "code",
      "metadata": {
        "colab": {
          "base_uri": "https://localhost:8080/"
        },
        "id": "t_3zHAzrcSJm",
        "outputId": "a1a13534-17ce-4221-aa5e-ba7b7abaae0b"
      },
      "source": [
        "NUM_EPOCHS = 30 # 20 minimum\n",
        "history = model.fit(dataset,epochs = NUM_EPOCHS,callbacks=[checkpoint_callback])"
      ],
      "execution_count": 15,
      "outputs": [
        {
          "output_type": "stream",
          "name": "stdout",
          "text": [
            "Epoch 1/30\n",
            "172/172 [==============================] - 31s 132ms/step - loss: 2.6849 - accuracy: 0.2861\n",
            "Epoch 2/30\n",
            "172/172 [==============================] - 24s 131ms/step - loss: 1.9540 - accuracy: 0.4286\n",
            "Epoch 3/30\n",
            "172/172 [==============================] - 24s 131ms/step - loss: 1.6884 - accuracy: 0.5009\n",
            "Epoch 4/30\n",
            "172/172 [==============================] - 24s 131ms/step - loss: 1.5406 - accuracy: 0.5401\n",
            "Epoch 5/30\n",
            "172/172 [==============================] - 24s 133ms/step - loss: 1.4535 - accuracy: 0.5624\n",
            "Epoch 6/30\n",
            "172/172 [==============================] - 25s 133ms/step - loss: 1.3946 - accuracy: 0.5773\n",
            "Epoch 7/30\n",
            "172/172 [==============================] - 25s 134ms/step - loss: 1.3482 - accuracy: 0.5889\n",
            "Epoch 8/30\n",
            "172/172 [==============================] - 24s 132ms/step - loss: 1.3094 - accuracy: 0.5985\n",
            "Epoch 9/30\n",
            "172/172 [==============================] - 25s 133ms/step - loss: 1.2749 - accuracy: 0.6076\n",
            "Epoch 10/30\n",
            "172/172 [==============================] - 24s 133ms/step - loss: 1.2424 - accuracy: 0.6167\n",
            "Epoch 11/30\n",
            "172/172 [==============================] - 24s 132ms/step - loss: 1.2082 - accuracy: 0.6260\n",
            "Epoch 12/30\n",
            "172/172 [==============================] - 24s 132ms/step - loss: 1.1764 - accuracy: 0.6349\n",
            "Epoch 13/30\n",
            "172/172 [==============================] - 24s 132ms/step - loss: 1.1432 - accuracy: 0.6451\n",
            "Epoch 14/30\n",
            "172/172 [==============================] - 24s 131ms/step - loss: 1.1088 - accuracy: 0.6557\n",
            "Epoch 15/30\n",
            "172/172 [==============================] - 25s 133ms/step - loss: 1.0740 - accuracy: 0.6667\n",
            "Epoch 16/30\n",
            "172/172 [==============================] - 25s 133ms/step - loss: 1.0378 - accuracy: 0.6787\n",
            "Epoch 17/30\n",
            "172/172 [==============================] - 25s 133ms/step - loss: 1.0028 - accuracy: 0.6903\n",
            "Epoch 18/30\n",
            "172/172 [==============================] - 24s 132ms/step - loss: 0.9655 - accuracy: 0.7032\n",
            "Epoch 19/30\n",
            "172/172 [==============================] - 24s 133ms/step - loss: 0.9317 - accuracy: 0.7149\n",
            "Epoch 20/30\n",
            "172/172 [==============================] - 24s 133ms/step - loss: 0.8963 - accuracy: 0.7276\n",
            "Epoch 21/30\n",
            "172/172 [==============================] - 24s 133ms/step - loss: 0.8651 - accuracy: 0.7391\n",
            "Epoch 22/30\n",
            "172/172 [==============================] - 25s 134ms/step - loss: 0.8361 - accuracy: 0.7493\n",
            "Epoch 23/30\n",
            "172/172 [==============================] - 25s 133ms/step - loss: 0.8094 - accuracy: 0.7590\n",
            "Epoch 24/30\n",
            "172/172 [==============================] - 24s 133ms/step - loss: 0.7868 - accuracy: 0.7668\n",
            "Epoch 25/30\n",
            "172/172 [==============================] - 25s 134ms/step - loss: 0.7649 - accuracy: 0.7748\n",
            "Epoch 26/30\n",
            "172/172 [==============================] - 25s 134ms/step - loss: 0.7460 - accuracy: 0.7817\n",
            "Epoch 27/30\n",
            "172/172 [==============================] - 25s 135ms/step - loss: 0.7294 - accuracy: 0.7876\n",
            "Epoch 28/30\n",
            "172/172 [==============================] - 24s 133ms/step - loss: 0.7167 - accuracy: 0.7927\n",
            "Epoch 29/30\n",
            "172/172 [==============================] - 25s 134ms/step - loss: 0.7043 - accuracy: 0.7969\n",
            "Epoch 30/30\n",
            "172/172 [==============================] - 25s 134ms/step - loss: 0.6934 - accuracy: 0.8004\n"
          ]
        }
      ]
    },
    {
      "cell_type": "code",
      "metadata": {
        "colab": {
          "base_uri": "https://localhost:8080/"
        },
        "id": "E8kRmQyrqOMb",
        "outputId": "24c8bbec-2bb6-4224-9701-1167293c2226"
      },
      "source": [
        "tf.train.latest_checkpoint('./training_checkpoints')\n",
        "model = build_model(vocab_len, embedding_dims, RNN_units, batch_size=1)\n",
        "model.load_weights(tf.train.latest_checkpoint('./training_checkpoints'))\n",
        "model.build(tf.TensorShape([1, None]))\n",
        "model.summary()"
      ],
      "execution_count": 16,
      "outputs": [
        {
          "output_type": "stream",
          "name": "stdout",
          "text": [
            "Model: \"sequential_1\"\n",
            "_________________________________________________________________\n",
            " Layer (type)                Output Shape              Param #   \n",
            "=================================================================\n",
            " embedding_1 (Embedding)     (1, None, 256)            16640     \n",
            "                                                                 \n",
            " gru_1 (GRU)                 (1, None, 1024)           3938304   \n",
            "                                                                 \n",
            " dense_1 (Dense)             (1, None, 65)             66625     \n",
            "                                                                 \n",
            "=================================================================\n",
            "Total params: 4,021,569\n",
            "Trainable params: 4,021,569\n",
            "Non-trainable params: 0\n",
            "_________________________________________________________________\n"
          ]
        }
      ]
    },
    {
      "cell_type": "code",
      "metadata": {
        "id": "OxwEKYh8dlWT"
      },
      "source": [
        "#input for model\n",
        "#no of chars to generate\n",
        "#vectorize the input\n",
        "#temperature value to manually adjust variability of predictions\n",
        "#devectorize teh output and feed it as input for next predictions\n",
        "#join the generated chars to final string\n",
        "\n",
        "def generate_text(model,nums,temp,start):\n",
        "  input_eval = [char2idx[s] for s in start] # string to numbers (vectorizing)\n",
        "  input_eval = tf.expand_dims(input_eval, 0) # dimension expansion\n",
        "  text_generated = [] # Empty string to store our results\n",
        "  model.reset_states() # Clears the hidden states in the RNN\n",
        "\n",
        "  for i in range(nums): #Run a loop for number of characters to generate\n",
        "    predictions = model(input_eval) # prediction for single character\n",
        "    predictions = tf.squeeze(predictions, 0)\n",
        "    predictions /= temp\n",
        "    predicted_id = tf.random.categorical(predictions,num_samples=1)[-1,0].numpy()\n",
        "\n",
        "    input_eval = tf.expand_dims([predicted_id],0)\n",
        "    text_generated.append(idx2char[predicted_id])\n",
        "\n",
        "  return (start+\"\".join(text_generated))\n"
      ],
      "execution_count": 17,
      "outputs": []
    },
    {
      "cell_type": "code",
      "metadata": {
        "colab": {
          "base_uri": "https://localhost:8080/"
        },
        "id": "QbskXJeXp27u",
        "outputId": "cd4910b3-15b1-4292-a053-84f9feca30d0"
      },
      "source": [
        "model.summary()"
      ],
      "execution_count": 18,
      "outputs": [
        {
          "output_type": "stream",
          "name": "stdout",
          "text": [
            "Model: \"sequential_1\"\n",
            "_________________________________________________________________\n",
            " Layer (type)                Output Shape              Param #   \n",
            "=================================================================\n",
            " embedding_1 (Embedding)     (1, None, 256)            16640     \n",
            "                                                                 \n",
            " gru_1 (GRU)                 (1, None, 1024)           3938304   \n",
            "                                                                 \n",
            " dense_1 (Dense)             (1, None, 65)             66625     \n",
            "                                                                 \n",
            "=================================================================\n",
            "Total params: 4,021,569\n",
            "Trainable params: 4,021,569\n",
            "Non-trainable params: 0\n",
            "_________________________________________________________________\n"
          ]
        }
      ]
    },
    {
      "cell_type": "code",
      "metadata": {
        "id": "FOj5N4UhfZs4",
        "colab": {
          "base_uri": "https://localhost:8080/"
        },
        "outputId": "c378fc3b-7fc4-4f9d-a271-bbacdd050b89"
      },
      "source": [
        "generated_text = generate_text(\n",
        "                    model, \n",
        "                    nums=500, \n",
        "                    temp=1, \n",
        "                    start=\"please hear\")\n",
        "print(generated_text)"
      ],
      "execution_count": 24,
      "outputs": [
        {
          "output_type": "stream",
          "name": "stdout",
          "text": [
            "please heard\n",
            "Of grean just prendain betters, for the thorn be it, to make an idle play\n",
            "Unto my memory titles there.\n",
            "\n",
            "BRUTUS:\n",
            "This is a fearful conference. Now, by mine honour,\n",
            "To chide my face, and will no foot straight\n",
            "Inter these four thoughts by the hand,\n",
            "And with his varying childness custo IO:\n",
            "Why, 'tis time my sorrow; the first word is that tardy\n",
            "To be incle in their heads both, and after,\n",
            "Thou art apacion. Go:\n",
            "Away with him too much in me; I am a-gentle blood,\n",
            "Yet look to be obedient of their drints\n"
          ]
        }
      ]
    },
    {
      "cell_type": "code",
      "metadata": {
        "id": "JnINYqjBavZT"
      },
      "source": [
        ""
      ],
      "execution_count": null,
      "outputs": []
    }
  ]
}