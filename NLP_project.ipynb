{
  "nbformat": 4,
  "nbformat_minor": 0,
  "metadata": {
    "colab": {
      "name": "NLP project.ipynb",
      "provenance": [],
      "collapsed_sections": [],
      "authorship_tag": "ABX9TyNx0+YanapLA/BVwhOeRowo",
      "include_colab_link": true
    },
    "kernelspec": {
      "name": "python3",
      "display_name": "Python 3"
    },
    "language_info": {
      "name": "python"
    },
    "accelerator": "GPU"
  },
  "cells": [
    {
      "cell_type": "markdown",
      "metadata": {
        "id": "view-in-github",
        "colab_type": "text"
      },
      "source": [
        "<a href=\"https://colab.research.google.com/github/saihaneesh26/NLP-proj/blob/main/NLP_project.ipynb\" target=\"_parent\"><img src=\"https://colab.research.google.com/assets/colab-badge.svg\" alt=\"Open In Colab\"/></a>"
      ]
    },
    {
      "cell_type": "code",
      "metadata": {
        "id": "O8_d6La4Ybj3"
      },
      "source": [
        "import tensorflow as tf\n",
        "import numpy as np\n",
        "import os"
      ],
      "execution_count": 1,
      "outputs": []
    },
    {
      "cell_type": "code",
      "metadata": {
        "id": "GV0ZS1YSZLUV",
        "colab": {
          "base_uri": "https://localhost:8080/"
        },
        "outputId": "d9dbcf69-9b44-4225-f907-83e1cfed8a0b"
      },
      "source": [
        "path_to_file = tf.keras.utils.get_file('shakespeare.txt', 'https://storage.googleapis.com/download.tensorflow.org/data/shakespeare.txt')\n"
      ],
      "execution_count": 2,
      "outputs": [
        {
          "output_type": "stream",
          "name": "stdout",
          "text": [
            "Downloading data from https://storage.googleapis.com/download.tensorflow.org/data/shakespeare.txt\n",
            "1122304/1115394 [==============================] - 0s 0us/step\n",
            "1130496/1115394 [==============================] - 0s 0us/step\n"
          ]
        }
      ]
    },
    {
      "cell_type": "code",
      "metadata": {
        "id": "BUhcaVpTZMZ0",
        "colab": {
          "base_uri": "https://localhost:8080/",
          "height": 35
        },
        "outputId": "7def5119-c553-4c1e-fe00-1c097123701d"
      },
      "source": [
        "train_text = open(path_to_file,'rb').read()\n",
        "train_text = train_text.decode(encoding=\"utf-8\")\n",
        "train_text[:100]"
      ],
      "execution_count": 26,
      "outputs": [
        {
          "output_type": "execute_result",
          "data": {
            "application/vnd.google.colaboratory.intrinsic+json": {
              "type": "string"
            },
            "text/plain": [
              "'First Citizen:\\nBefore we proceed any further, hear me speak.\\n\\nAll:\\nSpeak, speak.\\n\\nFirst Citizen:\\nYou'"
            ]
          },
          "metadata": {},
          "execution_count": 26
        }
      ]
    },
    {
      "cell_type": "code",
      "metadata": {
        "colab": {
          "base_uri": "https://localhost:8080/"
        },
        "id": "QmTXsWhlZhL3",
        "outputId": "af8af341-bf8c-4745-df88-033af4c0e6fe"
      },
      "source": [
        "len(train_text)"
      ],
      "execution_count": 4,
      "outputs": [
        {
          "output_type": "execute_result",
          "data": {
            "text/plain": [
              "1115394"
            ]
          },
          "metadata": {},
          "execution_count": 4
        }
      ]
    },
    {
      "cell_type": "code",
      "metadata": {
        "colab": {
          "base_uri": "https://localhost:8080/"
        },
        "id": "Tb9ZhCBdZjgc",
        "outputId": "7b6d2c28-60c8-46c8-9760-5c9a987c7ab4"
      },
      "source": [
        "#vectorize the text\n",
        "vocab = sorted(set(train_text))\n",
        "print(\"Unique words :\",len(vocab))"
      ],
      "execution_count": 5,
      "outputs": [
        {
          "output_type": "stream",
          "name": "stdout",
          "text": [
            "Unique words : 65\n"
          ]
        }
      ]
    },
    {
      "cell_type": "code",
      "metadata": {
        "colab": {
          "base_uri": "https://localhost:8080/"
        },
        "id": "QOgryuUKZv90",
        "outputId": "6e698d50-9476-4fc9-dc7c-6677dd5b6293"
      },
      "source": [
        "#map the words to unique ids or tokenization\n",
        "char2idx  = {u:i for i,u in enumerate(vocab)}#tokenids\n",
        "idx2char  = np.array(vocab)\n",
        "text_as_input = np.array([char2idx[c] for c in train_text])\n",
        "print(text_as_input[:2])"
      ],
      "execution_count": 6,
      "outputs": [
        {
          "output_type": "stream",
          "name": "stdout",
          "text": [
            "[18 47]\n"
          ]
        }
      ]
    },
    {
      "cell_type": "code",
      "metadata": {
        "id": "MwSx0tZnaMhs"
      },
      "source": [
        "#create dataset\n",
        "char_data = tf.data.Dataset.from_tensor_slices(text_as_input)\n",
        "seq_len = 100 #max input len-- len of input must be same  for training\n",
        "seq = char_data.batch(seq_len+1,drop_remainder=True)"
      ],
      "execution_count": 7,
      "outputs": []
    },
    {
      "cell_type": "code",
      "metadata": {
        "id": "Ymk324VlavDX"
      },
      "source": [
        "def split_input_target(chunk):\n",
        "  input_text = chunk[:-1]\n",
        "  target = chunk[1:]\n",
        "  return input_text,target\n",
        "\n",
        "dataset = seq.map(split_input_target)\n"
      ],
      "execution_count": 8,
      "outputs": []
    },
    {
      "cell_type": "code",
      "metadata": {
        "colab": {
          "base_uri": "https://localhost:8080/"
        },
        "id": "Cbq_TVhKa-ht",
        "outputId": "a2c2371a-1e0d-4d15-c35a-022f01c2125a"
      },
      "source": [
        "Buffersize = 10000\n",
        "BATCHSIZE = 64\n",
        "dataset = dataset.shuffle(Buffersize).batch(BATCHSIZE,drop_remainder=True)\n",
        "print(dataset)"
      ],
      "execution_count": 9,
      "outputs": [
        {
          "output_type": "stream",
          "name": "stdout",
          "text": [
            "<BatchDataset shapes: ((64, 100), (64, 100)), types: (tf.int64, tf.int64)>\n"
          ]
        }
      ]
    },
    {
      "cell_type": "code",
      "metadata": {
        "id": "PFhn9Go6bTlz"
      },
      "source": [
        "#model\n",
        "vocab_len = len(vocab)\n",
        "embedding_dims = 256\n",
        "RNN_units = 1024"
      ],
      "execution_count": 10,
      "outputs": []
    },
    {
      "cell_type": "code",
      "metadata": {
        "id": "W5uYlt2LbgJW"
      },
      "source": [
        "# An Embedding Layer: This layer serves as the input layer, accepting input values (in number format) and convert them into vectors.\n",
        "# A GRU layer: An RNN layer filled with 1024 Gradient Descent Units\n",
        "# A Dense layer: To output the result, with vocab_size outputs.\n",
        "\n",
        "def build_model(vocab_len,embedding_dims,RNN_units,batch_size):\n",
        "  model = tf.keras.Sequential([\n",
        "      tf.keras.layers.Embedding(vocab_len, embedding_dims,\n",
        "                              batch_input_shape=[batch_size, None]),\n",
        "      tf.keras.layers.GRU(RNN_units,return_sequences=True,stateful=True,recurrent_initializer='glorot_uniform'),\n",
        "      tf.keras.layers.Dense(vocab_len)\n",
        "  ])\n",
        "  return model"
      ],
      "execution_count": 11,
      "outputs": []
    },
    {
      "cell_type": "code",
      "metadata": {
        "colab": {
          "base_uri": "https://localhost:8080/"
        },
        "id": "ebp-zSOecK9e",
        "outputId": "567876cd-79aa-40fc-e59c-06ac588add7b"
      },
      "source": [
        "\n",
        "model = build_model(vocab_len,embedding_dims,RNN_units,BATCHSIZE)\n",
        "model.summary()"
      ],
      "execution_count": 12,
      "outputs": [
        {
          "output_type": "stream",
          "name": "stdout",
          "text": [
            "Model: \"sequential\"\n",
            "_________________________________________________________________\n",
            " Layer (type)                Output Shape              Param #   \n",
            "=================================================================\n",
            " embedding (Embedding)       (64, None, 256)           16640     \n",
            "                                                                 \n",
            " gru (GRU)                   (64, None, 1024)          3938304   \n",
            "                                                                 \n",
            " dense (Dense)               (64, None, 65)            66625     \n",
            "                                                                 \n",
            "=================================================================\n",
            "Total params: 4,021,569\n",
            "Trainable params: 4,021,569\n",
            "Non-trainable params: 0\n",
            "_________________________________________________________________\n"
          ]
        }
      ]
    },
    {
      "cell_type": "code",
      "metadata": {
        "id": "Aahj2eFHqgsQ"
      },
      "source": [
        "#compile\n",
        "def loss(labels, logits):\n",
        "  return tf.keras.losses.sparse_categorical_crossentropy(labels, logits, from_logits=True)\n",
        "\n",
        "model.compile(optimizer='adam',loss=loss,metrics=[['accuracy']])\n"
      ],
      "execution_count": 13,
      "outputs": []
    },
    {
      "cell_type": "code",
      "metadata": {
        "id": "6GoBIZtidGwE"
      },
      "source": [
        "checkpoint_callback = tf.keras.callbacks.ModelCheckpoint(\n",
        "    filepath = os.path.join('./training_checkpoints',\"ckpt_{epoch}\"),\n",
        "    save_weights_only = True\n",
        ")"
      ],
      "execution_count": 14,
      "outputs": []
    },
    {
      "cell_type": "code",
      "metadata": {
        "colab": {
          "base_uri": "https://localhost:8080/"
        },
        "id": "t_3zHAzrcSJm",
        "outputId": "dadfc65d-ff5a-4702-f0af-d0ad3da10ebf"
      },
      "source": [
        "NUM_EPOCHS = 5 # 20 minimum\n",
        "history = model.fit(dataset,epochs = NUM_EPOCHS,callbacks=[checkpoint_callback])"
      ],
      "execution_count": 15,
      "outputs": [
        {
          "output_type": "stream",
          "name": "stdout",
          "text": [
            "Epoch 1/5\n",
            "172/172 [==============================] - 31s 141ms/step - loss: 2.6608 - accuracy: 0.2866\n",
            "Epoch 2/5\n",
            "172/172 [==============================] - 26s 139ms/step - loss: 1.9625 - accuracy: 0.4267\n",
            "Epoch 3/5\n",
            "172/172 [==============================] - 25s 138ms/step - loss: 1.6975 - accuracy: 0.4991\n",
            "Epoch 4/5\n",
            "172/172 [==============================] - 26s 139ms/step - loss: 1.5482 - accuracy: 0.5385\n",
            "Epoch 5/5\n",
            "172/172 [==============================] - 26s 139ms/step - loss: 1.4612 - accuracy: 0.5607\n"
          ]
        }
      ]
    },
    {
      "cell_type": "code",
      "metadata": {
        "colab": {
          "base_uri": "https://localhost:8080/"
        },
        "id": "E8kRmQyrqOMb",
        "outputId": "842ffc91-784c-4992-a3f5-1146538fcfbb"
      },
      "source": [
        "tf.train.latest_checkpoint('./training_checkpoints')\n",
        "model = build_model(vocab_len, embedding_dims, RNN_units, batch_size=1)\n",
        "model.load_weights(tf.train.latest_checkpoint('./training_checkpoints'))\n",
        "model.build(tf.TensorShape([1, None]))\n",
        "model.summary()"
      ],
      "execution_count": 16,
      "outputs": [
        {
          "output_type": "stream",
          "name": "stdout",
          "text": [
            "Model: \"sequential_1\"\n",
            "_________________________________________________________________\n",
            " Layer (type)                Output Shape              Param #   \n",
            "=================================================================\n",
            " embedding_1 (Embedding)     (1, None, 256)            16640     \n",
            "                                                                 \n",
            " gru_1 (GRU)                 (1, None, 1024)           3938304   \n",
            "                                                                 \n",
            " dense_1 (Dense)             (1, None, 65)             66625     \n",
            "                                                                 \n",
            "=================================================================\n",
            "Total params: 4,021,569\n",
            "Trainable params: 4,021,569\n",
            "Non-trainable params: 0\n",
            "_________________________________________________________________\n"
          ]
        }
      ]
    },
    {
      "cell_type": "code",
      "metadata": {
        "id": "OxwEKYh8dlWT"
      },
      "source": [
        "#input for model\n",
        "#no of chars to generate\n",
        "#vectorize the input\n",
        "#temperature value to manually adjust variability of predictions\n",
        "#devectorize teh output and feed it as input for next predictions\n",
        "#join the generated chars to final string\n",
        "\n",
        "def generate_text(model,choice,nums,temp,start):\n",
        "  input_eval = [char2idx[s] for s in start] # string to numbers (vectorizing)\n",
        "  input_eval = tf.expand_dims(input_eval, 0) # dimension expansion\n",
        "  text_generated = [] # Empty string to store our results\n",
        "  model.reset_states() # Clears the hidden states in the RNN\n",
        "\n",
        "  while(nums>0): #Run a loop for number of characters to generate\n",
        "    predictions = model(input_eval) # prediction for single character\n",
        "    predictions = tf.squeeze(predictions, 0)\n",
        "    predictions /= temp\n",
        "    predicted_id = tf.random.categorical(predictions,num_samples=1)[-1,0].numpy()\n",
        "\n",
        "    input_eval = tf.expand_dims([predicted_id],0)\n",
        "    if(choice==1 and idx2char[predicted_id]==' '):\n",
        "      nums-=1\n",
        "    elif(choice==2 and idx2char[predicted_id]=='\\n'):\n",
        "      nums-=1\n",
        "    text_generated.append(idx2char[predicted_id])\n",
        "\n",
        "  return (start+\"\".join(text_generated))\n"
      ],
      "execution_count": 23,
      "outputs": []
    },
    {
      "cell_type": "code",
      "metadata": {
        "colab": {
          "base_uri": "https://localhost:8080/"
        },
        "id": "QbskXJeXp27u",
        "outputId": "9a42d0f8-86af-4e9a-f2df-eef533d81d5c"
      },
      "source": [
        "model.summary()"
      ],
      "execution_count": 21,
      "outputs": [
        {
          "output_type": "stream",
          "name": "stdout",
          "text": [
            "Model: \"sequential_1\"\n",
            "_________________________________________________________________\n",
            " Layer (type)                Output Shape              Param #   \n",
            "=================================================================\n",
            " embedding_1 (Embedding)     (1, None, 256)            16640     \n",
            "                                                                 \n",
            " gru_1 (GRU)                 (1, None, 1024)           3938304   \n",
            "                                                                 \n",
            " dense_1 (Dense)             (1, None, 65)             66625     \n",
            "                                                                 \n",
            "=================================================================\n",
            "Total params: 4,021,569\n",
            "Trainable params: 4,021,569\n",
            "Non-trainable params: 0\n",
            "_________________________________________________________________\n"
          ]
        }
      ]
    },
    {
      "cell_type": "code",
      "metadata": {
        "id": "JnINYqjBavZT",
        "colab": {
          "base_uri": "https://localhost:8080/"
        },
        "outputId": "84259388-49a8-480f-e5a2-2f34626fb1ea"
      },
      "source": [
        "d = [\"Words\",\"Sentences\"]\n",
        "ch = int(input(\"1.words 2.Sentences\\nEnter choice:\"))\n",
        "val = int(input(\"Enter number of \"+str(d[ch-1])+\" required:\"))\n",
        "st = input(\"Enter starting word:\")\n",
        "generated_text = generate_text(\n",
        "                    model, \n",
        "                    choice=ch,\n",
        "                    nums=val, \n",
        "                    temp=1, \n",
        "                    start=st)\n",
        "print(generated_text)"
      ],
      "execution_count": 25,
      "outputs": [
        {
          "output_type": "stream",
          "name": "stdout",
          "text": [
            "1.words 2.Sentences\n",
            "Enter choice:2\n",
            "Enter number of Sentences required:5\n",
            "Enter starting word:hello\n",
            "hellow us two\n",
            "eraves and them by thus God here thy ears.\n",
            "\n",
            "SICINIUS:\n",
            "Nowng them and Prepore--\n",
            "\n"
          ]
        }
      ]
    }
  ]
}